{
 "cells": [
  {
   "cell_type": "code",
   "execution_count": 2,
   "metadata": {},
   "outputs": [
    {
     "name": "stdout",
     "output_type": "stream",
     "text": [
      "Collecting sentence_transformers\n",
      "  Downloading sentence_transformers-4.1.0-py3-none-any.whl.metadata (13 kB)\n",
      "Requirement already satisfied: transformers<5.0.0,>=4.41.0 in /Users/leeyoungho/miniforge3/envs/ai_3/lib/python3.12/site-packages (from sentence_transformers) (4.53.0)\n",
      "Requirement already satisfied: tqdm in /Users/leeyoungho/miniforge3/envs/ai_3/lib/python3.12/site-packages (from sentence_transformers) (4.67.1)\n",
      "Requirement already satisfied: torch>=1.11.0 in /Users/leeyoungho/miniforge3/envs/ai_3/lib/python3.12/site-packages (from sentence_transformers) (2.7.1)\n",
      "Requirement already satisfied: scikit-learn in /Users/leeyoungho/miniforge3/envs/ai_3/lib/python3.12/site-packages (from sentence_transformers) (1.7.0)\n",
      "Requirement already satisfied: scipy in /Users/leeyoungho/miniforge3/envs/ai_3/lib/python3.12/site-packages (from sentence_transformers) (1.13.1)\n",
      "Requirement already satisfied: huggingface-hub>=0.20.0 in /Users/leeyoungho/miniforge3/envs/ai_3/lib/python3.12/site-packages (from sentence_transformers) (0.33.1)\n",
      "Requirement already satisfied: Pillow in /Users/leeyoungho/miniforge3/envs/ai_3/lib/python3.12/site-packages (from sentence_transformers) (11.2.1)\n",
      "Requirement already satisfied: typing_extensions>=4.5.0 in /Users/leeyoungho/miniforge3/envs/ai_3/lib/python3.12/site-packages (from sentence_transformers) (4.14.0)\n",
      "Requirement already satisfied: filelock in /Users/leeyoungho/miniforge3/envs/ai_3/lib/python3.12/site-packages (from transformers<5.0.0,>=4.41.0->sentence_transformers) (3.18.0)\n",
      "Requirement already satisfied: numpy>=1.17 in /Users/leeyoungho/miniforge3/envs/ai_3/lib/python3.12/site-packages (from transformers<5.0.0,>=4.41.0->sentence_transformers) (1.26.4)\n",
      "Requirement already satisfied: packaging>=20.0 in /Users/leeyoungho/miniforge3/envs/ai_3/lib/python3.12/site-packages (from transformers<5.0.0,>=4.41.0->sentence_transformers) (25.0)\n",
      "Requirement already satisfied: pyyaml>=5.1 in /Users/leeyoungho/miniforge3/envs/ai_3/lib/python3.12/site-packages (from transformers<5.0.0,>=4.41.0->sentence_transformers) (6.0.2)\n",
      "Requirement already satisfied: regex!=2019.12.17 in /Users/leeyoungho/miniforge3/envs/ai_3/lib/python3.12/site-packages (from transformers<5.0.0,>=4.41.0->sentence_transformers) (2024.11.6)\n",
      "Requirement already satisfied: requests in /Users/leeyoungho/miniforge3/envs/ai_3/lib/python3.12/site-packages (from transformers<5.0.0,>=4.41.0->sentence_transformers) (2.32.4)\n",
      "Requirement already satisfied: tokenizers<0.22,>=0.21 in /Users/leeyoungho/miniforge3/envs/ai_3/lib/python3.12/site-packages (from transformers<5.0.0,>=4.41.0->sentence_transformers) (0.21.2)\n",
      "Requirement already satisfied: safetensors>=0.4.3 in /Users/leeyoungho/miniforge3/envs/ai_3/lib/python3.12/site-packages (from transformers<5.0.0,>=4.41.0->sentence_transformers) (0.5.3)\n",
      "Requirement already satisfied: fsspec>=2023.5.0 in /Users/leeyoungho/miniforge3/envs/ai_3/lib/python3.12/site-packages (from huggingface-hub>=0.20.0->sentence_transformers) (2025.5.1)\n",
      "Requirement already satisfied: hf-xet<2.0.0,>=1.1.2 in /Users/leeyoungho/miniforge3/envs/ai_3/lib/python3.12/site-packages (from huggingface-hub>=0.20.0->sentence_transformers) (1.1.5)\n",
      "Requirement already satisfied: setuptools in /Users/leeyoungho/miniforge3/envs/ai_3/lib/python3.12/site-packages (from torch>=1.11.0->sentence_transformers) (80.9.0)\n",
      "Requirement already satisfied: sympy>=1.13.3 in /Users/leeyoungho/miniforge3/envs/ai_3/lib/python3.12/site-packages (from torch>=1.11.0->sentence_transformers) (1.14.0)\n",
      "Requirement already satisfied: networkx in /Users/leeyoungho/miniforge3/envs/ai_3/lib/python3.12/site-packages (from torch>=1.11.0->sentence_transformers) (3.5)\n",
      "Requirement already satisfied: jinja2 in /Users/leeyoungho/miniforge3/envs/ai_3/lib/python3.12/site-packages (from torch>=1.11.0->sentence_transformers) (3.1.6)\n",
      "Requirement already satisfied: mpmath<1.4,>=1.1.0 in /Users/leeyoungho/miniforge3/envs/ai_3/lib/python3.12/site-packages (from sympy>=1.13.3->torch>=1.11.0->sentence_transformers) (1.3.0)\n",
      "Requirement already satisfied: MarkupSafe>=2.0 in /Users/leeyoungho/miniforge3/envs/ai_3/lib/python3.12/site-packages (from jinja2->torch>=1.11.0->sentence_transformers) (3.0.2)\n",
      "Requirement already satisfied: charset_normalizer<4,>=2 in /Users/leeyoungho/miniforge3/envs/ai_3/lib/python3.12/site-packages (from requests->transformers<5.0.0,>=4.41.0->sentence_transformers) (3.4.2)\n",
      "Requirement already satisfied: idna<4,>=2.5 in /Users/leeyoungho/miniforge3/envs/ai_3/lib/python3.12/site-packages (from requests->transformers<5.0.0,>=4.41.0->sentence_transformers) (3.10)\n",
      "Requirement already satisfied: urllib3<3,>=1.21.1 in /Users/leeyoungho/miniforge3/envs/ai_3/lib/python3.12/site-packages (from requests->transformers<5.0.0,>=4.41.0->sentence_transformers) (2.4.0)\n",
      "Requirement already satisfied: certifi>=2017.4.17 in /Users/leeyoungho/miniforge3/envs/ai_3/lib/python3.12/site-packages (from requests->transformers<5.0.0,>=4.41.0->sentence_transformers) (2025.6.15)\n",
      "Requirement already satisfied: joblib>=1.2.0 in /Users/leeyoungho/miniforge3/envs/ai_3/lib/python3.12/site-packages (from scikit-learn->sentence_transformers) (1.5.1)\n",
      "Requirement already satisfied: threadpoolctl>=3.1.0 in /Users/leeyoungho/miniforge3/envs/ai_3/lib/python3.12/site-packages (from scikit-learn->sentence_transformers) (3.6.0)\n",
      "Downloading sentence_transformers-4.1.0-py3-none-any.whl (345 kB)\n",
      "Installing collected packages: sentence_transformers\n",
      "Successfully installed sentence_transformers-4.1.0\n"
     ]
    }
   ],
   "source": [
    "import sys\n",
    "!{str(sys.executable)} -m pip install sentence_transformers"
   ]
  },
  {
   "cell_type": "code",
   "execution_count": null,
   "metadata": {},
   "outputs": [],
   "source": [
    "# --- 4. SimCSE + IVF-PQ -----------------------------------\n",
    "import pandas as pd\n",
    "from sentence_transformers import SentenceTransformer\n",
    "import faiss\n",
    "import numpy as np\n",
    "\n",
    "train = pd.read_csv(\"./data/train.csv\")\n",
    "texts = (train[\"제목\"].fillna(\"\") + \" \" + train[\"키워드\"].fillna(\"\")).tolist()\n",
    "\n",
    "sim_model = SentenceTransformer(\"jhgan/ko-sbert-sts\")\n",
    "sim_emb   = sim_model.encode(texts, batch_size=256, normalize_embeddings=True)\n",
    "\n",
    "d = sim_emb.shape[1]\n",
    "quantizer = faiss.IndexFlatIP(d)\n",
    "index_ivfpq = faiss.IndexIVFPQ(quantizer, d, 4096, 32, 8)\n",
    "index_ivfpq.train(sim_emb)\n",
    "index_ivfpq.add(sim_emb)\n",
    "index_ivfpq.nprobe = 8\n",
    "\n",
    "new_vec = sim_model.encode([\"새로 들어온 아이디어\"], normalize_embeddings=True)\n",
    "D, I = index_ivfpq.search(new_vec, k=10)\n",
    "display(I, D)"
   ]
  },
  {
   "cell_type": "code",
   "execution_count": null,
   "metadata": {},
   "outputs": [
    {
     "name": "stderr",
     "output_type": "stream",
     "text": [
      "No sentence-transformers model found with name BM-K/KoSimCSE-roberta. Creating a new one with mean pooling.\n"
     ]
    },
    {
     "name": "stdout",
     "output_type": "stream",
     "text": [
      "코사인 유사도: 0.099\n"
     ]
    }
   ],
   "source": [
    "from sentence_transformers import SentenceTransformer, util\n",
    "\n",
    "model = SentenceTransformer(\"BM-K/KoSimCSE-roberta\")  # 원하는 모델로 교체\n",
    "sents = [\"전통 카페를 열고 싶어요\", \"커피 전문점 창업 아이디어\"]\n",
    "embs  = model.encode(sents, normalize_embeddings=True)\n",
    "sim   = float(util.cos_sim(embs[0], embs[1]))\n",
    "print(f\"코사인 유사도: {sim:.3f}\")"
   ]
  },
  {
   "cell_type": "code",
   "execution_count": null,
   "metadata": {},
   "outputs": [],
   "source": []
  }
 ],
 "metadata": {
  "kernelspec": {
   "display_name": "ai_3",
   "language": "python",
   "name": "python3"
  },
  "language_info": {
   "codemirror_mode": {
    "name": "ipython",
    "version": 3
   },
   "file_extension": ".py",
   "mimetype": "text/x-python",
   "name": "python",
   "nbconvert_exporter": "python",
   "pygments_lexer": "ipython3",
   "version": "3.12.10"
  }
 },
 "nbformat": 4,
 "nbformat_minor": 2
}
